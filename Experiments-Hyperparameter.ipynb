{
 "cells": [
  {
   "cell_type": "code",
   "execution_count": null,
   "metadata": {},
   "outputs": [],
   "source": [
    "from scipy.spatial import Delaunay\n",
    "from sklearn.neighbors import KDTree\n",
    "import numpy as np\n",
    "import ply\n",
    "import networkx as nx\n",
    "import importlib \n",
    "import base as ba\n",
    "import numba\n",
    "\n",
    "import numpy as np \n",
    "import os \n",
    "from os import path \n",
    "import networkx as nx\n",
    "import base\n",
    "import test_experiments as te\n",
    "import pickle\n",
    "import matplotlib.pyplot as plt"
   ]
  },
  {
   "cell_type": "code",
   "execution_count": null,
   "metadata": {},
   "outputs": [],
   "source": [
    "importlib.reload(te)\n",
    "importlib.reload(ba)"
   ]
  },
  {
   "cell_type": "markdown",
   "metadata": {},
   "source": [
    "## Hyperparameter calculation"
   ]
  },
  {
   "cell_type": "markdown",
   "metadata": {},
   "source": [
    "### Ring"
   ]
  },
  {
   "cell_type": "code",
   "execution_count": null,
   "metadata": {},
   "outputs": [],
   "source": [
    "print(\"Adaptive Ring\")\n",
    "max_dists = [0.001, 0.005, 0.01, 0.05, 0.1]\n",
    "avg_list_max_dist = []\n",
    "for max_dist in max_dists:\n",
    "    exp3 = te.Experiment(\"bunny.ply\",sel_mod = \"rel\", self_args = {'thresh': 0.01},\\\n",
    "     neigh_args = {'max_dist':max_dist}, neigh_flag = \"ring\", k_harris = 0.04)\n",
    "    results_adaptive = exp3.test_pipeline()\n",
    "    avg_rep = [i for i in results_adaptive.values()]\n",
    "    merged = []\n",
    "    for i in avg_rep: \n",
    "        if type(i) is list: \n",
    "            for item in i: \n",
    "                merged.append(item)\n",
    "        else: \n",
    "            merged.append(i)\n",
    "    len_merged = len(merged)\n",
    "    avg_rep = sum(merged) / len_merged\n",
    "    print(\"Max_dist: {}, Avg_Rep {}\".format(max_dist, avg_rep))\n",
    "    avg_list_max_dist.append(avg_rep)"
   ]
  },
  {
   "cell_type": "code",
   "execution_count": null,
   "metadata": {},
   "outputs": [],
   "source": [
    "with open('avg_list_max_dist.pkl', 'wb') as f:\n",
    "    pickle.dump(avg_list_max_dist, f)\n",
    "\n",
    "with open('avg_list_max_dist.pkl', 'rb') as f:\n",
    "    avg_list_max_dist = pickle.load( f)"
   ]
  },
  {
   "cell_type": "code",
   "execution_count": null,
   "metadata": {},
   "outputs": [],
   "source": [
    "plt.plot([0.001, 0.005, 0.01, 0.05, 0.1], avg_list_max_dist)\n",
    "plt.grid()\n",
    "plt.title(\"Avg. repeatability rate for different $\\delta$\")\n",
    "plt.ylabel(\"Avg. rep. rate\")\n",
    "plt.xlabel(\"$\\delta$\")\n",
    "plt.show()\n"
   ]
  },
  {
   "cell_type": "markdown",
   "metadata": {},
   "source": [
    "### Dist"
   ]
  },
  {
   "cell_type": "code",
   "execution_count": null,
   "metadata": {
    "scrolled": true
   },
   "outputs": [],
   "source": [
    "distances =[ 0.005, 0.01, 0.05, 0.1, 0.5] \n",
    "avg_list_rep_dist = []\n",
    "for distance in distances:\n",
    "    try: \n",
    "        exp2 = te.Experiment(\"bunny.ply\",sel_mod = \"rel\", self_args = {'thresh': 0.01},\\\n",
    "         neigh_args = {'distance':distance}, neigh_flag = \"dist\", k_harris = 0.04)\n",
    "        results_dist = exp2.test_pipeline()\n",
    "        avg_rep = [i for i in results_dist.values()]\n",
    "        merged = []\n",
    "        for i in avg_rep: \n",
    "            if type(i) is list: \n",
    "                for item in i: \n",
    "                    merged.append(item)\n",
    "            else: \n",
    "                merged.append(i)\n",
    "        len_merged = len(merged)\n",
    "        avg_rep = sum(merged) / len_merged\n",
    "        avg_list_rep_dist.append(avg_rep)\n",
    "        print(\"Dist: {}, Avg_Rep {}\".format(distance, avg_rep))\n",
    "    except Exception as e: \n",
    "        print(\"Error in the calculation\")\n",
    "        print(e)"
   ]
  },
  {
   "cell_type": "code",
   "execution_count": null,
   "metadata": {},
   "outputs": [],
   "source": [
    "with open('avg_list_rep_dist.pkl', 'wb') as f:\n",
    "    pickle.dump(avg_list_rep_dist, f)\n",
    "\n",
    "with open('avg_list_rep_dist.pkl', 'rb') as f:\n",
    "    avg_list_rep_dist = pickle.load( f)"
   ]
  },
  {
   "cell_type": "code",
   "execution_count": null,
   "metadata": {},
   "outputs": [],
   "source": [
    "plt.plot([0.01, 0.025, 0.05 ,0.1, 0.15], avg_list_rep_dist_tmp)\n",
    "plt.grid()\n",
    "plt.title(\"Avg. repeatabiliy rate for different $L_2$ distance factors\")\n",
    "plt.ylabel(\"Avg. rep. rate\")\n",
    "plt.xlabel(\"$L_2$ distance factors\")\n",
    "plt.show()"
   ]
  },
  {
   "cell_type": "markdown",
   "metadata": {},
   "source": [
    "### K-neighbors"
   ]
  },
  {
   "cell_type": "code",
   "execution_count": null,
   "metadata": {
    "scrolled": true
   },
   "outputs": [],
   "source": [
    "k_neighbors = [5,10,15,20,30,50,70,80,90,100]\n",
    "avg_list_k = []\n",
    "print(\"Results K-Neighbors\")\n",
    "for k in k_neighbors:\n",
    "    try:\n",
    "        exp = te.Experiment(\"bunny.ply\",sel_mod = \"rel\", self_args = {'thresh': 0.01},\\\n",
    "         neigh_args = {'k':k}, neigh_flag = \"k\", k_harris = 0.04)\n",
    "        results_k = exp.test_pipeline()\n",
    "        avg_rep = [i for i in results_k.values()]\n",
    "        merged = []\n",
    "        for i in avg_rep: \n",
    "            if type(i) is list: \n",
    "                for item in i: \n",
    "                    merged.append(item)\n",
    "            else: \n",
    "                merged.append(i)\n",
    "        len_merged = len(merged)\n",
    "        avg_rep = sum(merged) / len_merged\n",
    "        avg_list_k.append(avg_rep)\n",
    "        print(\"K neight: {}, Avg_Rep {}\".format(k, avg_rep))\n",
    "    except: \n",
    "        print(\"Error at k {}\".format(k))\n",
    "    "
   ]
  },
  {
   "cell_type": "code",
   "execution_count": null,
   "metadata": {},
   "outputs": [],
   "source": [
    "with open('avg_list_k.pkl', 'wb') as f:\n",
    "    pickle.dump(avg_list_k, f)\n",
    "\n",
    "with open('avg_list_k.pkl', 'rb') as f:\n",
    "    avg_list_k = pickle.load(f)"
   ]
  },
  {
   "cell_type": "code",
   "execution_count": null,
   "metadata": {},
   "outputs": [],
   "source": [
    "plt.plot([5,10,15,20,30,50,70], avg_list_k)\n",
    "plt.grid()\n",
    "\n",
    "plt.title(\"Avg. repeatability rate for different k\")\n",
    "plt.xlabel(\"Number of k nearest neighbors\")\n",
    "plt.ylabel(\"Avg. rep. rate\")\n",
    "plt.show()"
   ]
  },
  {
   "cell_type": "code",
   "execution_count": null,
   "metadata": {},
   "outputs": [],
   "source": []
  }
 ],
 "metadata": {
  "kernelspec": {
   "display_name": "Python 3",
   "language": "python",
   "name": "python3"
  },
  "language_info": {
   "codemirror_mode": {
    "name": "ipython",
    "version": 3
   },
   "file_extension": ".py",
   "mimetype": "text/x-python",
   "name": "python",
   "nbconvert_exporter": "python",
   "pygments_lexer": "ipython3",
   "version": "3.5.2"
  }
 },
 "nbformat": 4,
 "nbformat_minor": 2
}
