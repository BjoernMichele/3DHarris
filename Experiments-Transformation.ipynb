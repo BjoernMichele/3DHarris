{
 "cells": [
  {
   "cell_type": "code",
   "execution_count": null,
   "metadata": {},
   "outputs": [],
   "source": [
    "from scipy.spatial import Delaunay\n",
    "from sklearn.neighbors import KDTree\n",
    "import numpy as np\n",
    "import ply\n",
    "import networkx as nx\n",
    "import importlib \n",
    "import base as ba\n",
    "import numba\n",
    "\n",
    "import numpy as np \n",
    "import os \n",
    "from os import path \n",
    "import networkx as nx\n",
    "import base\n",
    "import test_experiments as te\n",
    "import pickle\n",
    "import matplotlib.pyplot as plt"
   ]
  },
  {
   "cell_type": "code",
   "execution_count": null,
   "metadata": {},
   "outputs": [],
   "source": [
    "importlib.reload(te)\n",
    "importlib.reload(ba)"
   ]
  },
  {
   "cell_type": "markdown",
   "metadata": {},
   "source": [
    "## Experiments - Transformations"
   ]
  },
  {
   "cell_type": "markdown",
   "metadata": {},
   "source": [
    "### Adaptive neighborhood method"
   ]
  },
  {
   "cell_type": "code",
   "execution_count": null,
   "metadata": {},
   "outputs": [],
   "source": [
    "max_dist_hyper = 0.025"
   ]
  },
  {
   "cell_type": "code",
   "execution_count": null,
   "metadata": {},
   "outputs": [],
   "source": [
    "print(\"Adaptive Ring\")\n",
    "exp3 = te.Experiment(\"bunny.ply\",sel_mod = \"rel\", self_args = {'thresh': 0.01},\\\n",
    "     neigh_args = {'max_dist':max_dist_hyper}, neigh_flag = \"ring\", k_harris = 0.04)\n",
    "results_adaptive = exp3.test_pipeline()\n",
    "bunny_ring_angles = exp3.rotation_test()\n",
    "\n",
    "datapath = \"../Datasets/tosca/cat0\"\n",
    "cat = te.Experiment_move(datapath,sel_mod = \"rel\", self_args = {'thresh': 0.01},\\\n",
    "     neigh_args = {'max_dist':max_dist_hyper}, neigh_flag = \"ring\", k_harris = 0.04, graph_use=True)\n",
    "base_datapath = \"../Datasets/tosca/cat\" \n",
    "datapaths = [base_datapath+\"{}\".format(i) for i in range(0,11)]\n",
    "rep_list_obj1_ring = cat.test_pipeline_move(datapaths,keep_diameter = True)\n",
    "cat_rep_ring = cat.test_pipeline()\n",
    "cat_ring_angles = cat.rotation_test()\n",
    "datapath = \"../Datasets/tosca/david0\"\n",
    "human = te.Experiment_move(datapath,sel_mod = \"rel\", self_args = {'thresh': 0.01},\\\n",
    "     neigh_args = {'max_dist':max_dist_hyper}, neigh_flag = \"ring\", k_harris = 0.04,graph_use=True)\n",
    "\n",
    "base_datapath = \"../Datasets/tosca/david\" \n",
    "datapaths = [base_datapath+\"{}\".format(i) for i in [0,1,6,10,11,12,13]]\n",
    "rep_list_obj2_ring = human.test_pipeline_move(datapaths,keep_diameter = True)\n",
    "david_rep_ring = human.test_pipeline()\n",
    "human_ring_angles = human.rotation_test()"
   ]
  },
  {
   "cell_type": "markdown",
   "metadata": {},
   "source": [
    "### K-nearest neighbors"
   ]
  },
  {
   "cell_type": "code",
   "execution_count": null,
   "metadata": {},
   "outputs": [],
   "source": [
    "k_hyper = 50"
   ]
  },
  {
   "cell_type": "code",
   "execution_count": null,
   "metadata": {},
   "outputs": [],
   "source": [
    "print(\"Results K-Neighbors\")\n",
    "exp = te.Experiment(\"bunny.ply\",sel_mod = \"rel\", self_args = {'thresh': 0.01},\\\n",
    "     neigh_args = {'k':k_hyper}, neigh_flag = \"k\", k_harris = 0.04)\n",
    "results_k_bunny = exp.test_pipeline()\n",
    "bunny_k_angles = exp.rotation_test()\n",
    "datapath = \"../Datasets/tosca/cat0\"\n",
    "cat = te.Experiment_move(datapath,sel_mod = \"rel\", self_args = {'thresh': 0.01},\\\n",
    "     neigh_args = {'k':k_hyper}, neigh_flag = \"k\", k_harris = 0.04)\n",
    "base_datapath = \"../Datasets/tosca/cat\" \n",
    "datapaths = [base_datapath+\"{}\".format(i) for i in range(0,11)]\n",
    "rep_list_obj1_k = cat.test_pipeline_move(datapaths)\n",
    "cat_rep_k = cat.test_pipeline()\n",
    "cat_k_angles = cat.rotation_test()\n",
    "datapath = \"../Datasets/tosca/david0\"\n",
    "human = te.Experiment_move(datapath,sel_mod = \"rel\", self_args = {'thresh': 0.01},\\\n",
    "     neigh_args = {'k':k_hyper}, neigh_flag = \"k\", k_harris = 0.04)\n",
    "base_datapath = \"../Datasets/tosca/david\" \n",
    "datapaths = [base_datapath+\"{}\".format(i) for i in [0,1,6,10,11,12,13]]\n",
    "rep_list_obj2_k = human.test_pipeline_move(datapaths)\n",
    "david_rep_k = human.test_pipeline(write_ply=True, path=\"visualisation\")\n",
    "human_k_angles = human.rotation_test()"
   ]
  },
  {
   "cell_type": "markdown",
   "metadata": {},
   "source": [
    "### L2 distance"
   ]
  },
  {
   "cell_type": "code",
   "execution_count": null,
   "metadata": {},
   "outputs": [],
   "source": [
    "l2_dist = 0.025"
   ]
  },
  {
   "cell_type": "code",
   "execution_count": null,
   "metadata": {
    "scrolled": true
   },
   "outputs": [],
   "source": [
    "print(\"Results Distance\")\n",
    "exp2 = te.Experiment(\"bunny.ply\",sel_mod = \"rel\", self_args = {'thresh': 0.01},\\\n",
    "     neigh_args = {'distance':l2_dist}, neigh_flag = \"dist\", k_harris = 0.04)\n",
    "results_dist = exp2.test_pipeline()\n",
    "bunny_dist_angles = exp2.rotation_test()\n",
    "\n",
    "datapath = \"../Datasets/tosca/cat0\"\n",
    "cat = te.Experiment_move(datapath,sel_mod = \"rel\", self_args = {'thresh': 0.01},\\\n",
    "     neigh_args = {'distance':l2_dist}, neigh_flag = \"dist\", k_harris = 0.04)\n",
    "base_datapath = \"../Datasets/tosca/cat\" \n",
    "datapaths = [base_datapath+\"{}\".format(i) for i in range(0,11)]\n",
    "rep_list_obj1_dist = cat.test_pipeline_move(datapaths,keep_diameter = True)\n",
    "cat_rep_dist = cat.test_pipeline()\n",
    "cat_dist_angles = cat.rotation_test()\n",
    "\n",
    "datapath = \"../Datasets/tosca/david0\"\n",
    "human = te.Experiment_move(datapath,sel_mod = \"rel\", self_args = {'thresh': 0.01},\\\n",
    "     neigh_args = {'distance':l2_dist}, neigh_flag = \"dist\", k_harris = 0.04)\n",
    "base_datapath = \"../Datasets/tosca/david\" \n",
    "datapaths = [base_datapath+\"{}\".format(i) for i in [0,1,6,10,11,12,13]]\n",
    "rep_list_obj2_dist = human.test_pipeline_move(datapaths,keep_diameter = True)\n",
    "david_rep_dist = human.test_pipeline()\n",
    "human_dist_angles = human.rotation_test()"
   ]
  },
  {
   "cell_type": "markdown",
   "metadata": {},
   "source": [
    "## Save the calculated values in .pkl files"
   ]
  },
  {
   "cell_type": "code",
   "execution_count": null,
   "metadata": {},
   "outputs": [],
   "source": [
    "f = open(\"cat_rigid_rep_ring.pkl\",\"wb\")\n",
    "pickle.dump(rep_list_obj1_ring,f)\n",
    "f.close()\n",
    "f = open(\"human_rigid_rep_ring.pkl\",\"wb\")\n",
    "pickle.dump(rep_list_obj2_ring,f)\n",
    "f.close()\n",
    "f = open(\"cat_rigid_rep_k.pkl\",\"wb\")\n",
    "pickle.dump(rep_list_obj1_k,f)\n",
    "f.close()\n",
    "f = open(\"human_rigid_rep_k.pkl\",\"wb\")\n",
    "pickle.dump(rep_list_obj2_k,f)\n",
    "f.close()\n",
    "f = open(\"cat_rigid_rep_dist.pkl\",\"wb\")\n",
    "pickle.dump(rep_list_obj1_dist,f)\n",
    "f.close()\n",
    "f = open(\"human_rigid_rep_dist.pkl\",\"wb\")\n",
    "pickle.dump(rep_list_obj2_dist,f)\n",
    "f.close()"
   ]
  },
  {
   "cell_type": "code",
   "execution_count": null,
   "metadata": {},
   "outputs": [],
   "source": [
    "f = open(\"bunny_rep_ring_angles.pkl\",\"wb\")\n",
    "pickle.dump(bunny_ring_angles,f)\n",
    "f.close()\n",
    "f = open(\"cat_rep_ring_angles.pkl\",\"wb\")\n",
    "pickle.dump(cat_ring_angles,f)\n",
    "f.close()\n",
    "f = open(\"david_rep_ring_angles.pkl\",\"wb\")\n",
    "pickle.dump(human_ring_angles,f)\n",
    "f.close()\n",
    "\n",
    "f = open(\"bunny_rep_k_angles.pkl\",\"wb\")\n",
    "pickle.dump(bunny_k_angles,f)\n",
    "f.close()\n",
    "f = open(\"cat_rep_k_angles.pkl\",\"wb\")\n",
    "pickle.dump(cat_k_angles,f)\n",
    "f.close()\n",
    "f = open(\"david_rep_k_angles.pkl\",\"wb\")\n",
    "pickle.dump(human_k_angles,f)\n",
    "f.close()\n",
    "\n",
    "f = open(\"bunny_rep_dist_angles.pkl\",\"wb\")\n",
    "pickle.dump(bunny_dist_angles,f)\n",
    "f.close()\n",
    "f = open(\"cat_rep_dist_angles.pkl\",\"wb\")\n",
    "pickle.dump(cat_dist_angles,f)\n",
    "f.close()\n",
    "f = open(\"david_rep_dist_angles.pkl\",\"wb\")\n",
    "pickle.dump(human_dist_angles,f)\n",
    "f.close()"
   ]
  },
  {
   "cell_type": "code",
   "execution_count": null,
   "metadata": {},
   "outputs": [],
   "source": [
    "f = open(\"bunny_rep_k.pkl\",\"wb\")\n",
    "pickle.dump(results_k_bunny,f)\n",
    "f.close()\n",
    "f = open(\"cat_rep_k.pkl\",\"wb\")\n",
    "pickle.dump(cat_rep_k,f)\n",
    "f.close()\n",
    "f = open(\"david_rep_k.pkl\",\"wb\")\n",
    "pickle.dump(david_rep_k,f)\n",
    "f.close()\n",
    "\n",
    "\n",
    "\n",
    "f = open(\"bunny_rep_dist.pkl\",\"wb\")\n",
    "pickle.dump(results_dist,f)\n",
    "f.close()\n",
    "f = open(\"cat_rep_dist.pkl\",\"wb\")\n",
    "pickle.dump(cat_rep_dist,f)\n",
    "f.close()\n",
    "f = open(\"david_rep_dist.pkl\",\"wb\")\n",
    "pickle.dump(david_rep_dist,f)\n",
    "f.close()\n",
    "\n",
    "\n",
    "f = open(\"bunny_rep_ring.pkl\",\"wb\")\n",
    "pickle.dump(results_adaptive,f)\n",
    "f.close()\n",
    "f = open(\"cat_rep_ring.pkl\",\"wb\")\n",
    "pickle.dump(cat_rep_ring,f)\n",
    "f.close()\n",
    "f = open(\"david_rep_ring.pkl\",\"wb\")\n",
    "pickle.dump(david_rep_ring,f)\n",
    "f.close()"
   ]
  },
  {
   "cell_type": "markdown",
   "metadata": {},
   "source": [
    "## Load .pkl files"
   ]
  },
  {
   "cell_type": "code",
   "execution_count": null,
   "metadata": {},
   "outputs": [],
   "source": [
    "f = open(\"bunny_rep_k.pkl\",\"rb\")\n",
    "results_k = pickle.load(f)\n",
    "f.close()\n",
    "f = open(\"cat_rep_k.pkl\",\"rb\")\n",
    "cat_rep_k = pickle.load(f)\n",
    "f.close()\n",
    "f = open(\"david_rep_k.pkl\",\"rb\")\n",
    "david_rep_k = pickle.load(f)\n",
    "f.close()\n",
    "\n",
    "\n",
    "\n",
    "f = open(\"bunny_rep_dist.pkl\",\"rb\")\n",
    "results_dist = pickle.load(f)\n",
    "f.close()\n",
    "f = open(\"cat_rep_dist.pkl\",\"rb\")\n",
    "cat_rep_dist = pickle.load(f)\n",
    "f.close()\n",
    "f = open(\"david_rep_dist.pkl\",\"rb\")\n",
    "david_rep_dist = pickle.load(f)\n",
    "f.close()\n",
    "\n",
    "\n",
    "f = open(\"bunny_rep_ring.pkl\",\"rb\")\n",
    "results_adaptive = pickle.load(f)\n",
    "f.close()\n",
    "f = open(\"cat_rep_ring.pkl\",\"rb\")\n",
    "cat_rep_ring = pickle.load(f)\n",
    "f.close()\n",
    "f = open(\"david_rep_ring.pkl\",\"rb\")\n",
    "david_rep_ring = pickle.load(f)\n",
    "f.close()"
   ]
  },
  {
   "cell_type": "code",
   "execution_count": null,
   "metadata": {},
   "outputs": [],
   "source": [
    "f = open(\"cat_rigid_rep_k.pkl\",\"rb\")\n",
    "rep_list_obj1_k = pickle.load(f)\n",
    "f.close()\n",
    "f = open(\"human_rigid_rep_k.pkl\",\"rb\")\n",
    "rep_list_obj2_k = pickle.load(f)\n",
    "f.close()\n",
    "f = open(\"cat_rigid_rep_dist.pkl\",\"rb\")\n",
    "rep_list_obj1_dist = pickle.load(f)\n",
    "f.close()\n",
    "f = open(\"human_rigid_rep_dist.pkl\",\"rb\")\n",
    "rep_list_obj2_dist = pickle.load(f)\n",
    "f.close()\n",
    "f = open(\"cat_rigid_rep_ring.pkl\",\"rb\")\n",
    "rep_list_obj1_ring = pickle.load(f)\n",
    "f.close()\n",
    "f = open(\"human_rigid_rep_ring.pkl\",\"rb\")\n",
    "rep_list_obj2_ring = pickle.load(f)\n",
    "f.close()"
   ]
  },
  {
   "cell_type": "code",
   "execution_count": null,
   "metadata": {},
   "outputs": [],
   "source": [
    "f = open(\"bunny_rep_k_angles.pkl\",\"rb\")\n",
    "bunny_k_angles = pickle.load(f)\n",
    "f.close()\n",
    "f = open(\"cat_rep_k_angles.pkl\",\"rb\")\n",
    "cat_k_angles = pickle.load(f)\n",
    "f.close()\n",
    "f = open(\"david_rep_k_angles.pkl\",\"rb\")\n",
    "human_k_angles = pickle.load(f)\n",
    "f.close()\n",
    "\n",
    "f = open(\"bunny_rep_dist_angles.pkl\",\"rb\")\n",
    "bunny_dist_angles = pickle.load(f)\n",
    "f.close()\n",
    "f = open(\"cat_rep_dist_angles.pkl\",\"rb\")\n",
    "cat_dist_angles = pickle.load(f)\n",
    "f.close()\n",
    "f = open(\"david_rep_dist_angles.pkl\",\"rb\")\n",
    "human_dist_angles = pickle.load(f)\n",
    "f.close()\n",
    "\n",
    "f = open(\"bunny_rep_ring_angles.pkl\",\"rb\")\n",
    "bunny_ring_angles = pickle.load(f)\n",
    "f.close()\n",
    "f = open(\"cat_rep_ring_angles.pkl\",\"rb\")\n",
    "cat_ring_angles = pickle.load(f)\n",
    "f.close()\n",
    "f = open(\"david_rep_ring_angles.pkl\",\"rb\")\n",
    "human_ring_angles = pickle.load(f)\n",
    "f.close()\n",
    "\n",
    "\n"
   ]
  },
  {
   "cell_type": "markdown",
   "metadata": {},
   "source": [
    "## Visualization of the results"
   ]
  },
  {
   "cell_type": "markdown",
   "metadata": {},
   "source": [
    "### Rigid transformation"
   ]
  },
  {
   "cell_type": "code",
   "execution_count": null,
   "metadata": {},
   "outputs": [],
   "source": [
    "plt.plot(range(len(rep_list_obj1_k)),rep_list_obj1_k, 'bo',label=\"k-neigh\")\n",
    "plt.plot(range(len(rep_list_obj1_k)),rep_list_obj1_dist,'ro' ,label=\"dist\")\n",
    "plt.plot(range(len(rep_list_obj1_k)),rep_list_obj1_ring,'go' ,label=\"ring\")\n",
    "plt.title(\"Repeatability rate for non rigid transformation (cat)\")\n",
    "plt.xlabel(\"Image number\")\n",
    "plt.ylabel(\"Rep. rate\")\n",
    "plt.legend()\n",
    "plt.grid()\n",
    "plt.show()"
   ]
  },
  {
   "cell_type": "code",
   "execution_count": null,
   "metadata": {},
   "outputs": [],
   "source": [
    "plt.plot(range(len(rep_list_obj2_k)),rep_list_obj2_k, 'bv',label=\"k-neigh\")\n",
    "plt.plot(range(len(rep_list_obj2_k)),rep_list_obj2_dist,'rv' ,label=\"dist\")\n",
    "plt.plot(range(len(rep_list_obj2_k)),rep_list_obj2_ring,'gv' ,label=\"ring\")\n",
    "plt.title(\"Repeatability rate for non rigid transformation (human)\")\n",
    "plt.xlabel(\"Image number\")\n",
    "plt.ylabel(\"Rep. rate\")\n",
    "plt.legend()\n",
    "plt.grid()\n",
    "plt.show()"
   ]
  },
  {
   "cell_type": "markdown",
   "metadata": {},
   "source": [
    "### Rigid transformation with constant distance"
   ]
  },
  {
   "cell_type": "code",
   "execution_count": null,
   "metadata": {},
   "outputs": [],
   "source": [
    "plt.plot(range(len(rep_list_obj1_k)),rep_list_obj1_k, 'bo-',label=\"k-neigh\")\n",
    "plt.plot(range(len(rep_list_obj1_k)),rep_list_obj1_dist_keep,'ro-' ,label=\"dist\")\n",
    "plt.plot(range(len(rep_list_obj1_k)),rep_list_obj1_ring_keep,'go-' ,label=\"ring\")\n",
    "\n",
    "plt.title(\"Repeatability rate for non rigid transformation (cat)\")\n",
    "plt.xlabel(\"Image number\")\n",
    "plt.ylabel(\"Rep. rate\")\n",
    "plt.legend()\n",
    "plt.grid()\n",
    "plt.show()"
   ]
  },
  {
   "cell_type": "code",
   "execution_count": null,
   "metadata": {},
   "outputs": [],
   "source": [
    "plt.plot(range(len(rep_list_obj2_k)),rep_list_obj2_k, 'bv-',label=\"k-neigh\")\n",
    "plt.plot(range(len(rep_list_obj2_k)),rep_list_obj2_dist_keep,'rv-' ,label=\"dist\")\n",
    "plt.plot(range(len(rep_list_obj2_k)),rep_list_obj2_ring_keep,'gv-' ,label=\"ring\")\n",
    "\n",
    "plt.title(\"Repeatability rate for non rigid transformation (human)\")\n",
    "plt.xlabel(\"Image number\")\n",
    "plt.ylabel(\"Rep. rate\")\n",
    "plt.legend()\n",
    "plt.grid()\n",
    "plt.show()"
   ]
  },
  {
   "cell_type": "markdown",
   "metadata": {},
   "source": [
    "## Rotation"
   ]
  },
  {
   "cell_type": "code",
   "execution_count": null,
   "metadata": {},
   "outputs": [],
   "source": [
    "rotation_angle = [1,5,10,15,20,30,45,75,90,120, 150, 180]\n",
    "\n",
    "plt.plot(rotation_angle,bunny_k_angles['angle_x'], 'bs-',label=\"k-neigh (bunny)\")\n",
    "plt.plot(rotation_angle,cat_k_angles['angle_x'],'bo-' ,label=\"k-neigh (cat)\")\n",
    "plt.plot(rotation_angle,human_k_angles['angle_x'],'bv-' ,label=\"k-neigh (human)\")\n",
    "\n",
    "\n",
    "plt.plot(rotation_angle,bunny_dist_angles['angle_x'], 'rs-', label=\"dist (bunny)\")\n",
    "plt.plot(rotation_angle,cat_dist_angles['angle_x'], 'ro-',label=\"dist (cat)\")\n",
    "plt.plot(rotation_angle,human_dist_angles['angle_x'],'rv-', label=\"dist (human)\")\n",
    "\n",
    "\n",
    "plt.plot(rotation_angle,bunny_ring_angles['angle_x'],'gs-', label=\"ring (bunny)\")\n",
    "plt.plot(rotation_angle,cat_ring_angles['angle_x'],'go-', label=\"ring (cat)\")\n",
    "plt.plot(rotation_angle,human_ring_angles['angle_x'], 'gv-',label=\"ring (human)\")\n",
    "\n",
    "plt.grid()\n",
    "plt.legend()\n",
    "plt.ylabel(\"Rep. rate\")\n",
    "plt.xlabel(\"Rotation angle (x-Axis)\")\n",
    "plt.title(\"Repeatability rate over rotation angles (x-Axis)\")"
   ]
  },
  {
   "cell_type": "code",
   "execution_count": null,
   "metadata": {},
   "outputs": [],
   "source": [
    "rotation_angle = [1,5,10,15,20,30,45,75,90,120, 150, 180]\n",
    "\n",
    "plt.plot(rotation_angle,results_k['angle'], 'bs-',label=\"k-neigh (bunny)\")\n",
    "plt.plot(rotation_angle,cat_rep_k['angle'],'bo-' ,label=\"k-neigh (cat)\")\n",
    "plt.plot(rotation_angle,david_rep_k['angle'],'bv-' ,label=\"k-neigh (human)\")\n",
    "\n",
    "\n",
    "plt.plot(rotation_angle,results_dist['angle'], 'rs-', label=\"dist (bunny)\")\n",
    "plt.plot(rotation_angle,cat_rep_dist['angle'], 'ro-',label=\"dist (cat)\")\n",
    "plt.plot(rotation_angle,david_rep_dist['angle'],'rv-', label=\"dist (human)\")\n",
    "\n",
    "\n",
    "plt.plot(rotation_angle,results_adaptive['angle'],'gs-', label=\"ring (bunny)\")\n",
    "\n",
    "plt.plot(rotation_angle,cat_rep_ring['angle'],'go-', label=\"ring (cat)\")\n",
    "plt.plot(rotation_angle,david_rep_ring['angle'], 'gv-',label=\"ring (human)\")\n",
    "\n",
    "plt.grid()\n",
    "plt.legend()\n",
    "plt.ylabel(\"Rep. rate\")\n",
    "plt.xlabel(\"Rotation angle (y-Axis)\")\n",
    "plt.title(\"Repeatability rate over rotation angles (y-Axis)\")"
   ]
  },
  {
   "cell_type": "code",
   "execution_count": null,
   "metadata": {},
   "outputs": [],
   "source": [
    "rotation_angle = [1,5,10,15,20,30,45,75,90,120, 150, 180]\n",
    "#Important there is a mistake in the name conventioin, angle_y, is the roation around the z axis \n",
    "\n",
    "plt.plot(rotation_angle,bunny_k_angles['angle_y'], 'bs-',label=\"k-neigh (bunny)\")\n",
    "plt.plot(rotation_angle,cat_k_angles['angle_y'],'bo-' ,label=\"k-neigh (cat)\")\n",
    "plt.plot(rotation_angle,human_k_angles['angle_y'],'bv-' ,label=\"k-neigh (human)\")\n",
    "\n",
    "\n",
    "plt.plot(rotation_angle,bunny_dist_angles['angle_y'], 'rs-', label=\"dist (bunny)\")\n",
    "plt.plot(rotation_angle,cat_dist_angles['angle_y'], 'ro-',label=\"dist (cat)\")\n",
    "plt.plot(rotation_angle,human_dist_angles['angle_y'],'rv-', label=\"dist (human)\")\n",
    "\n",
    "\n",
    "plt.plot(rotation_angle,bunny_ring_angles['angle_y'],'gs-', label=\"ring (bunny)\")\n",
    "plt.plot(rotation_angle,cat_ring_angles['angle_y'],'go-', label=\"ring (cat)\")\n",
    "plt.plot(rotation_angle,human_ring_angles['angle_y'], 'gv-',label=\"ring (human)\")\n",
    "\n",
    "plt.grid()\n",
    "plt.legend()\n",
    "plt.ylabel(\"Rep. rate\")\n",
    "plt.xlabel(\"Rotation angle (z-Axis)\")\n",
    "plt.title(\"Repeatability rate over rotation angles (z-Axis)\")"
   ]
  },
  {
   "cell_type": "markdown",
   "metadata": {},
   "source": [
    "## Scale"
   ]
  },
  {
   "cell_type": "code",
   "execution_count": null,
   "metadata": {},
   "outputs": [],
   "source": [
    "scale_values = [0.25, 0.5, 0.75, 0.9, 1.0, 1.1, 1.25, 1.5, 2.0, 3.0, 4.0]\n",
    "plt.plot(scale_values,results_k['scale'], 'bs-',label=\"k-neigh (bunny)\")\n",
    "plt.plot(scale_values,cat_rep_k['scale'],'bo-' ,label=\"k-neigh (cat)\")\n",
    "plt.plot(scale_values,david_rep_k['scale'],'bv-' ,label=\"k-neigh (human)\")\n",
    "\n",
    "\n",
    "plt.plot(scale_values,results_dist['scale'], 'rs-', label=\"dist (bunny)\")\n",
    "plt.plot(scale_values,cat_rep_dist['scale'], 'ro-',label=\"dist (cat)\")\n",
    "plt.plot(scale_values,david_rep_dist['scale'],'rv-', label=\"dist (human)\")\n",
    "\n",
    "\n",
    "plt.plot(scale_values,results_adaptive['scale'],'gs-', label=\"ring (bunny)\")\n",
    "plt.plot(scale_values,cat_rep_ring['scale'],'go-', label=\"ring (cat)\")\n",
    "plt.plot(scale_values,david_rep_ring['scale'], 'gv-',label=\"ring (human)\")\n",
    "\n",
    "\n",
    "plt.grid()\n",
    "plt.legend()\n",
    "plt.ylabel(\"Rep. rate\")\n",
    "plt.xlabel(\"Scale factor\")\n",
    "plt.title(\"Repeatability rate for different scale factors\")"
   ]
  },
  {
   "cell_type": "markdown",
   "metadata": {},
   "source": [
    "## Subsampling"
   ]
  },
  {
   "cell_type": "code",
   "execution_count": null,
   "metadata": {},
   "outputs": [],
   "source": [
    "resolution_factor = [0.0001, 0.001,0.0025, 0.005, 0.0075, 0.01,0.05, 0.1]\n",
    "resolution_factor_1 = [0.0001, 0.001,0.0025, 0.005, 0.0075, 0.01,0.05]\n",
    "\n",
    "\n",
    "\n",
    "plt.plot(np.log10(resolution_factor),results_k['resolution'], 'bs-',label=\"k-neigh (bunny)\")\n",
    "plt.plot(np.log10(resolution_factor_1),cat_rep_k['resolution'],'bo-' ,label=\"k-neigh (cat)\")\n",
    "plt.plot(np.log10(resolution_factor_1),david_rep_k['resolution'],'bv-' ,label=\"k-neigh (human)\")\n",
    "\n",
    "\n",
    "plt.plot(np.log10(resolution_factor),results_dist['resolution'], 'rs-', label=\"dist (bunny)\")\n",
    "plt.plot(np.log10(resolution_factor),cat_rep_dist['resolution'], 'ro-',label=\"dist (cat)\")\n",
    "plt.plot(np.log10(resolution_factor),david_rep_dist['resolution'],'rv-', label=\"dist (human)\")\n",
    "\n",
    "\n",
    "plt.plot(np.log10(resolution_factor), results_adaptive['resolution'],'gs-', label=\"ring (bunny)\")\n",
    "plt.plot(np.log10(resolution_factor),cat_rep_ring['resolution'],'go-', label=\"ring (cat)\")\n",
    "plt.plot(np.log10(resolution_factor),david_rep_ring['resolution'], 'gv-',label=\"ring (human)\")\n",
    "\n",
    "plt.grid()\n",
    "plt.legend()\n",
    "plt.ylabel(\"Rep. rate\")\n",
    "plt.xlabel(\"Grid cell size factors (log10)\")\n",
    "plt.title(\"Repeatability rate for different grid cell size factors\")"
   ]
  },
  {
   "cell_type": "markdown",
   "metadata": {},
   "source": [
    "## Noise"
   ]
  },
  {
   "cell_type": "code",
   "execution_count": null,
   "metadata": {},
   "outputs": [],
   "source": [
    "noise_std = [0.1, 0.25, 0.5,  0.75, 1.0,1.25 ,1.5,1.75, 2.0,2.5 ]\n",
    "\n",
    "\n",
    "plt.plot(noise_std,results_k['noise_list'], 'bs-',label=\"k-neigh (bunny)\")\n",
    "plt.plot(noise_std,cat_rep_k['noise_list'],'bo-' ,label=\"k-neigh (cat)\")\n",
    "plt.plot(noise_std,david_rep_k['noise_list'],'bv-' ,label=\"k-neigh (human)\")\n",
    "\n",
    "\n",
    "plt.plot(noise_std,results_dist['noise_list'], 'rs-', label=\"dist (bunny)\")\n",
    "plt.plot(noise_std,cat_rep_dist['noise_list'], 'ro-',label=\"dist (cat)\")\n",
    "plt.plot(noise_std,david_rep_dist['noise_list'],'rv-', label=\"dist (human)\")\n",
    "\n",
    "\n",
    "plt.plot(noise_std,results_adaptive['noise_list'],'gs-', label=\"ring (bunny)\")\n",
    "plt.plot(noise_std,cat_rep_ring['noise_list'],'go-', label=\"ring (cat)\")\n",
    "plt.plot(noise_std,david_rep_ring['noise_list'], 'gv-',label=\"ring (human)\")\n",
    "\n",
    "\n",
    "plt.grid()\n",
    "plt.legend()\n",
    "plt.ylabel(\"Rep.\")\n",
    "plt.xlabel(\"Noise Level(Std.)\")\n",
    "plt.title(\"Repeatability for different Noise levels\")"
   ]
  },
  {
   "cell_type": "markdown",
   "metadata": {},
   "source": [
    "## Micro Holes"
   ]
  },
  {
   "cell_type": "code",
   "execution_count": null,
   "metadata": {},
   "outputs": [],
   "source": [
    "#Micro Holes\n",
    "\n",
    "nb_holes = [5,10, 20, 50, 75, 100]\n",
    "\n",
    "plt.plot(nb_holes,results_k['micro_holes_list'], 'bs-',label=\"k-neigh (bunny)\")\n",
    "plt.plot(nb_holes,cat_rep_k['micro_holes_list'],'bo-' ,label=\"k-neigh (cat)\")\n",
    "plt.plot(nb_holes,david_rep_k['micro_holes_list'],'bv-' ,label=\"k-neigh (human)\")\n",
    "\n",
    "\n",
    "plt.plot(nb_holes,results_dist['micro_holes_list'], 'rs-', label=\"dist (bunny)\")\n",
    "plt.plot(nb_holes,cat_rep_dist['micro_holes_list'], 'ro-',label=\"dist (cat)\")\n",
    "plt.plot(nb_holes,david_rep_dist['micro_holes_list'],'rv-', label=\"dist (human)\")\n",
    "\n",
    "\n",
    "plt.plot(nb_holes,results_adaptive['micro_holes_list'],'gs-', label=\"ring (bunny)\")\n",
    "plt.plot(nb_holes,cat_rep_ring['micro_holes_list'],'go-', label=\"ring (cat)\")\n",
    "plt.plot(nb_holes,david_rep_ring['micro_holes_list'], 'gv-',label=\"ring (human)\")\n",
    "\n",
    "plt.grid()\n",
    "plt.legend()\n",
    "plt.ylabel(\"Rep. rate\")\n",
    "plt.xlabel(\"Nb. holes\")\n",
    "plt.title(\"Repeatability rate for different number of small holes\")"
   ]
  },
  {
   "cell_type": "markdown",
   "metadata": {},
   "source": [
    "## Holes"
   ]
  },
  {
   "cell_type": "code",
   "execution_count": null,
   "metadata": {},
   "outputs": [],
   "source": [
    "# Holes\n",
    "\n",
    "hole_size  = np.log10([0.0001, 0.0005 ,0.001, 0.005 ,0.01, 0.1]) #Fraction of the diameter\n",
    "\n",
    "plt.plot(hole_size,results_k['holes_list'], 'bs-',label=\"k-neigh (bunny)\")\n",
    "plt.plot(hole_size,cat_rep_k['holes_list'],'bo-' ,label=\"k-neigh (cat)\")\n",
    "plt.plot(hole_size,david_rep_k['holes_list'],'bv-' ,label=\"k-neigh (human)\")\n",
    "\n",
    "\n",
    "plt.plot(hole_size,results_dist['holes_list'], 'rs-', label=\"dist (bunny)\")\n",
    "plt.plot(hole_size,cat_rep_dist['holes_list'], 'ro-',label=\"dist (cat)\")\n",
    "plt.plot(hole_size,david_rep_dist['holes_list'],'rv-', label=\"dist (human)\")\n",
    "\n",
    "\n",
    "plt.plot(hole_size,results_adaptive['holes_list'],'gs-', label=\"ring (bunny)\")\n",
    "plt.plot(hole_size,cat_rep_ring['holes_list'],'go-', label=\"ring (cat)\")\n",
    "plt.plot(hole_size,david_rep_ring['holes_list'], 'gv-',label=\"ring (human)\")\n",
    "\n",
    "\n",
    "\n",
    "plt.grid()\n",
    "plt.legend()\n",
    "plt.ylabel(\"Rep. rate\")\n",
    "plt.xlabel(\" Log. hole size (fraction of the diameter)\")\n",
    "plt.title(\"Repeatability rate for different sizes of holes\")"
   ]
  }
 ],
 "metadata": {
  "kernelspec": {
   "display_name": "Python 3",
   "language": "python",
   "name": "python3"
  },
  "language_info": {
   "codemirror_mode": {
    "name": "ipython",
    "version": 3
   },
   "file_extension": ".py",
   "mimetype": "text/x-python",
   "name": "python",
   "nbconvert_exporter": "python",
   "pygments_lexer": "ipython3",
   "version": "3.5.2"
  }
 },
 "nbformat": 4,
 "nbformat_minor": 2
}
